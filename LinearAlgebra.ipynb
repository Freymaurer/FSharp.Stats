
        {
            "cells": [
          {
           "cell_type": "markdown",
           "metadata": {},
           
           "source": []
          }
,
          {
           "cell_type": "code",
           "metadata": {},
            "execution_count": null, "outputs": [],
           "source": ["#r \"nuget: Plotly.NET, 2.0.0-preview.16\"\n",
"#r \"nuget: Plotly.NET.Interactive, 2.0.0-preview.16\"\n",
"#r \"nuget: FSharp.Stats\"\n",
"\n",
"open Plotly.NET\n"]
          }
,
          {
           "cell_type": "markdown",
           "metadata": {},
           
           "source": ["# Linear Algebra\n",
"\n",
"Some algorithms such as SVD, EVD, or QR are implemented as a managed version in F# for a full list check the [API reference](https://fslab.org/FSharp.Stats/reference/fsharp-stats-algebra.html)\n",
"\n"]
          }
,
          {
           "cell_type": "code",
           "metadata": {},
            "execution_count": 3, "outputs": [
          {
           "data": {
            "text/plain": ["(vector [|4.595512789; 3.104930081; 0.4905827078|],",
" matrix [[0.08363949464; -0.5272668525; 0.8455732382]",
"         [-0.6866329583; -0.6454495688; -0.3345594636]",
"         [0.7221769974; -0.5526160695; -0.4160238745]],",
" matrix [[0.1830830572; 0.7884727058; 0.5871893957]",
"         [-0.7336553483; -0.2879987311; 0.615472632]",
"         [-0.6543931724; 0.5434772518; -0.5257395294]])"]
        },
           "execution_count": 3,
           "metadata": {},
           "output_type": "execute_result"
          }],
           "source": ["open FSharp.Stats\n",
"open FSharp.Stats.Algebra\n",
"\n",
"let A = \n",
"    matrix [ [ 1.0;  1.0; -1.0 ]\n",
"             [ 1.0; -2.0; -3.0 ]\n",
"             [ 2.0;  3.0;  1.0 ] ]\n",
"\n",
"let B = \n",
"    matrix [ [  4.0; ]\n",
"             [ -6.0; ]\n",
"             [  7.0; ] ]\n",
"\n",
"let svdRes = LinearAlgebra.SVD A\n"]
          }
,
          {
           "cell_type": "markdown",
           "metadata": {},
           
           "source": ["## Using unmanaged optimized linear algebra functions\n",
"\n",
"Additionally, we provide some bindings for [LAPACK]() routines. This is currently only tested on windows.\n",
"\n",
"**Attention**: These bindings are highly incomplete and will most likely be dropped for something like MKL.NET. [See issue#](https://github.com/fslaborg/FSharp.Stats/issues/91)\n",
"\n",
"the native libraries are contained in the nuget package at the `netlib_LAPACK` path. Include that one instead of the `/../../lib` pth used here.\n",
"\n"]
          }
,
          {
           "cell_type": "code",
           "metadata": {},
            "execution_count": 5, "outputs": [],
           "source": ["ServiceLocator.setEnvironmentPathVariable (__SOURCE_DIRECTORY__ + \"/../../lib\") //\"D:/Source/FSharp.Stats/lib\"\n",
"\n",
"// initialize the native service provider. This will search on many system paths for the needed binaries.\n",
"LinearAlgebra.Service()\n",
"\n",
"let svdResLapack = LinearAlgebra.SVD A\n"]
          }],
            "metadata": {
            "kernelspec": {"display_name": ".NET (F#)", "language": "F#", "name": ".net-fsharp"},
            "langauge_info": {
        "file_extension": ".fs",
        "mimetype": "text/x-fsharp",
        "name": "C#",
        "pygments_lexer": "fsharp",
        "version": "4.5"
        }
        },
            "nbformat": 4,
            "nbformat_minor": 1
        }
        

