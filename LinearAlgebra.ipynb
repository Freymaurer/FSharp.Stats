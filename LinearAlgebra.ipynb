
        {
            "cells": [
          {
           "cell_type": "code",
           "metadata": {},
            "execution_count": null, "outputs": [], 
           "source": ["#r \"nuget: Plotly.NET, 2.0.0-preview.16\"\n",
"#r \"nuget: Plotly.NET.Interactive, 2.0.0-preview.16\"\n",
"#r \"nuget: FSharp.Stats\"\n",
"\n",
"open Plotly.NET\n"]
          }
,
          {
           "cell_type": "markdown",
           "metadata": {},
           
           "source": ["# Linear Algebra\n"]
          }
,
          {
           "cell_type": "code",
           "metadata": {},
            "execution_count": 3, "outputs": [], 
           "source": ["open FSharp.Stats\n",
"open FSharp.Stats.Algebra\n",
"\n",
"let A = \n",
"    matrix [ [ 1.0;  1.0; -1.0 ]\n",
"             [ 1.0; -2.0; -3.0 ]\n",
"             [ 2.0;  3.0;  1.0 ] ]\n",
"\n",
"let B = \n",
"    matrix [ [  4.0; ]\n",
"             [ -6.0; ]\n",
"             [  7.0; ] ]\n"]
          }
,
          {
           "cell_type": "markdown",
           "metadata": {},
           
           "source": ["## Using unmanaged optimized linear algebra functions\n",
"\n",
"**Attention**: These bindings are highly incomplete and will most likely be dropped for something like MKL.NET. [See issue#](https://github.com/fslaborg/FSharp.Stats/issues/91)\n",
"\n",
"the native libraries are contained in the nuget package at the `netlib_LAPACK` path. Include that one instead of the `/../../lib` pth used here.\n",
"\n"]
          }
,
          {
           "cell_type": "code",
           "metadata": {},
            "execution_count": 4, "outputs": [
          {
           "data": {
            "text/plain": ["No value returned by any evaluator"]
        },
           "execution_count": 4,
           "metadata": {},
           "output_type": "execute_result"
          }], 
           "source": ["ServiceLocator.setEnvironmentPathVariable (__SOURCE_DIRECTORY__ + \"/../../lib\") //\"D:/Source/FSharp.Stats/lib\"\n",
"\n",
"LinearAlgebra.Service()\n",
"\n",
"let svdRes = LinearAlgebra.SVD A\n"]
          }],
            "metadata": {
            "kernelspec": {"display_name": ".NET (F#)", "language": "F#", "name": ".net-fsharp"},
            "langauge_info": {
        "file_extension": ".fs",
        "mimetype": "text/x-fsharp",
        "name": "C#",
        "pygments_lexer": "fsharp",
        "version": "4.5"
        }
        },
            "nbformat": 4,
            "nbformat_minor": 1
        }
        

